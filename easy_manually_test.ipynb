{
 "cells": [
  {
   "cell_type": "code",
   "execution_count": 2,
   "id": "7d2073bb",
   "metadata": {
    "jupyter": {
     "is_executing": true
    }
   },
   "outputs": [],
   "source": [
    "from pathlib import Path\n",
    "\n",
    "import pandas as pd\n",
    "import numpy as np\n",
    "import cloudpickle\n",
    "from sklearn.model_selection import train_test_split\n",
    "from sklearn.metrics import accuracy_score, roc_auc_score, classification_report, confusion_matrix\n"
   ]
  },
  {
   "cell_type": "code",
   "execution_count": null,
   "id": "431d0d28",
   "metadata": {
    "jupyter": {
     "is_executing": true
    }
   },
   "outputs": [],
   "source": [
    "bundle_path = \"mushroom_lr_artifacts/mushroom_predict_bundle.pkl\"\n",
    "with open(bundle_path, \"rb\") as f:\n",
    "    pp = cloudpickle.load(f)\n",
    "\n",
    "input_data = {\n",
    "    \"cap-shape\": \"f\",\n",
    "    \"cap-surface\": \"f\",\n",
    "    \"cap-color\": \"n\",\n",
    "    \"bruises\": \"f\"\n",
    "}\n",
    "\n",
    "prob = pp.predict_from_partial(input_data)\n",
    "print(f\"{prob:.4f}\")"
   ]
  },
  {
   "cell_type": "markdown",
   "id": "d32b6026",
   "metadata": {},
   "source": [
    "# test partial input "
   ]
  },
  {
   "cell_type": "code",
   "execution_count": null,
   "id": "fc8ed087",
   "metadata": {
    "jupyter": {
     "is_executing": true
    }
   },
   "outputs": [
    {
     "name": "stdout",
     "output_type": "stream",
     "text": [
      "\n",
      "=== Partial Input Test Results ===\n",
      "Missing ratio: 50%\n",
      "Samples tested: 300\n",
      "Accuracy: 0.9833\n",
      "ROC-AUC:  0.9984\n"
     ]
    }
   ],
   "source": [
    "import json\n",
    "\n",
    "# === 1) Load dataset ===\n",
    "df = pd.read_csv(\"data/mushrooms.csv\")\n",
    "\n",
    "# === 1.1) Load kept feature list from JSON ===\n",
    "with open(\"mushroom_lr_artifacts/kept_features.json\", \"r\") as f: \n",
    "    kept_features = json.load(f)\n",
    "\n",
    "# === 1.2) Keep only those features ===\n",
    "df = df[kept_features + [\"class\"]]\n",
    "\n",
    "# Target encoding\n",
    "y = df[\"class\"].map({\"e\": 0, \"p\": 1})\n",
    "X = df.drop(columns=[\"class\"])\n",
    "\n",
    "# === 2) Split dataset (same seed as training!) ===\n",
    "X_train, X_test, y_train, y_test = train_test_split(\n",
    "    X, y, test_size=0.25, random_state=42, stratify=y\n",
    ")\n",
    "\n",
    "# === 3) Load the saved model bundle ===\n",
    "with open(\"mushroom_lr_artifacts/mushroom_predict_bundle.pkl\", \"rb\") as f:\n",
    "    pp = cloudpickle.load(f)\n",
    "\n",
    "# === 4) Monte Carlo partial-input testing ===\n",
    "rng = np.random.default_rng(42)  # same seed for reproducibility\n",
    "missing_ratio = 0.5              # hide 50% of features\n",
    "n_samples = 300                  # test 300 samples\n",
    "\n",
    "preds, probs, trues = [], [], []\n",
    "test_indices = rng.choice(len(X_test), size=n_samples, replace=False)\n",
    "\n",
    "for idx in test_indices:\n",
    "    row = X_test.iloc[idx].to_dict()\n",
    "    y_true = y_test.iloc[idx]\n",
    "    \n",
    "    # Randomly mask features\n",
    "    partial_input = {\n",
    "        k: (v if rng.random() > missing_ratio else \"\")\n",
    "        for k, v in row.items()\n",
    "    }\n",
    "\n",
    "    # Use the Monte Carlo predictor (already encapsulated)\n",
    "    prob = pp.predict_from_partial(partial_input)\n",
    "    pred = 1 if prob >= 0.5 else 0\n",
    "\n",
    "    probs.append(prob)\n",
    "    preds.append(pred)\n",
    "    trues.append(y_true)\n",
    "\n",
    "# === 5) Evaluate ===\n",
    "acc = accuracy_score(trues, preds)\n",
    "auc = roc_auc_score(trues, probs)\n",
    "\n",
    "print(\"\\n=== Partial Input Test Results ===\")\n",
    "print(f\"Missing ratio: {missing_ratio:.0%}\")\n",
    "print(f\"Samples tested: {n_samples}\")\n",
    "print(f\"Accuracy: {acc:.4f}\")\n",
    "print(f\"ROC-AUC:  {auc:.4f}\")"
   ]
  }
 ],
 "metadata": {
  "kernelspec": {
   "display_name": "Python 3",
   "language": "python",
   "name": "python3"
  },
  "language_info": {
   "codemirror_mode": {
    "name": "ipython",
    "version": 3
   },
   "file_extension": ".py",
   "mimetype": "text/x-python",
   "name": "python",
   "nbconvert_exporter": "python",
   "pygments_lexer": "ipython3",
   "version": "3.12.5"
  }
 },
 "nbformat": 4,
 "nbformat_minor": 5
}
