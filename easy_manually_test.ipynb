{
 "cells": [
  {
   "cell_type": "code",
   "execution_count": 13,
   "id": "7d2073bb",
   "metadata": {},
   "outputs": [],
   "source": [
    "import joblib, json, pandas as pd\n",
    "from pathlib import Path\n"
   ]
  },
  {
   "cell_type": "code",
   "execution_count": null,
   "id": "431d0d28",
   "metadata": {},
   "outputs": [
    {
     "name": "stdout",
     "output_type": "stream",
     "text": [
      "0.8581210650170857\n"
     ]
    }
   ],
   "source": [
    "import cloudpickle\n",
    "\n",
    "bundle_path = \"mushroom_lr_artifacts/mushroom_predict_bundle.pkl\"\n",
    "with open(bundle_path, \"rb\") as f:\n",
    "    pp = cloudpickle.load(f)\n",
    "\n",
    "input_data = {\"odor\": \"f\", \"habitat\": \"g\", \"gill-color\": \"\"}\n",
    "prob = pp.predict_from_partial(input_data)\n",
    "print(prob)\n"
   ]
  },
  {
   "cell_type": "code",
   "execution_count": 13,
   "id": "d501cf4b",
   "metadata": {},
   "outputs": [
    {
     "name": "stdout",
     "output_type": "stream",
     "text": [
      "0.8581210650170857\n"
     ]
    }
   ],
   "source": [
    "from predictor import MushroomPredictor\n",
    "import joblib\n",
    "\n",
    "pp = joblib.load(\"mushroom_lr_artifacts/mushroom_predict_bundle.joblib\")\n",
    "result = pp.predict_from_partial({\"odor\": \"f\", \"habitat\": \"g\", \"gill-color\": \"\"})\n",
    "print(result)"
   ]
  }
 ],
 "metadata": {
  "kernelspec": {
   "display_name": "Python 3",
   "language": "python",
   "name": "python3"
  },
  "language_info": {
   "codemirror_mode": {
    "name": "ipython",
    "version": 3
   },
   "file_extension": ".py",
   "mimetype": "text/x-python",
   "name": "python",
   "nbconvert_exporter": "python",
   "pygments_lexer": "ipython3",
   "version": "3.12.5"
  }
 },
 "nbformat": 4,
 "nbformat_minor": 5
}
